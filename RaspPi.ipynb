{
 "cells": [
  {
   "cell_type": "raw",
   "source": [
    "In this, I will be programming multiple sensors to a Raspberry Pi 4"
   ],
   "metadata": {
    "collapsed": false,
    "pycharm": {
     "name": ""
    }
   }
  },
  {
   "cell_type": "markdown",
   "source": [
    "Button mapped to GPIO pin 2\n",
    "![Raspberry Pi 4 setup for a single square button](RaspPi4Button.png \"Raspbery Pi 4 button setup\")"
   ],
   "metadata": {
    "collapsed": false
   }
  },
  {
   "cell_type": "code",
   "execution_count": 1,
   "outputs": [
    {
     "ename": "ModuleNotFoundError",
     "evalue": "No module named 'gpiozero'",
     "output_type": "error",
     "traceback": [
      "\u001B[1;31m---------------------------------------------------------------------------\u001B[0m",
      "\u001B[1;31mModuleNotFoundError\u001B[0m                       Traceback (most recent call last)",
      "Cell \u001B[1;32mIn [1], line 1\u001B[0m\n\u001B[1;32m----> 1\u001B[0m \u001B[38;5;28;01mfrom\u001B[39;00m \u001B[38;5;21;01mgpiozero\u001B[39;00m \u001B[38;5;28;01mimport\u001B[39;00m Button, LED\n\u001B[0;32m      2\u001B[0m \u001B[38;5;28;01mfrom\u001B[39;00m \u001B[38;5;21;01msignal\u001B[39;00m \u001B[38;5;28;01mimport\u001B[39;00m pause\n\u001B[0;32m      4\u001B[0m \u001B[38;5;66;03m# create Button object with the GPIO pin as the parameter\u001B[39;00m\n",
      "\u001B[1;31mModuleNotFoundError\u001B[0m: No module named 'gpiozero'"
     ]
    }
   ],
   "source": [
    "from gpiozero import Button, LED\n",
    "from signal import pause\n",
    "\n",
    "# create Button object with the GPIO pin as the parameter\n",
    "button = Button(2)\n",
    "\n",
    "# define functions for what you want it to do at certain button states\n",
    "def pressed():\n",
    "    print(\"Button has been pressed\")\n",
    "\n",
    "def released():\n",
    "    print(\"button has been released\")\n",
    "\n",
    "# map a function to a state\n",
    "button.when_pressed = pressed()\n",
    "button.when_released = released()\n",
    "\n",
    "# loop\n",
    "pause()"
   ],
   "metadata": {
    "collapsed": false
   }
  },
  {
   "cell_type": "markdown",
   "source": [
    "Button mapped to GPIO pin 2 with an LED on pin 17\n",
    "![Raspberry Pi 4 setup for a simple button and simple LED](RaspPi4ButtonLED.png \"Raspbery Pi 4 button and LED setup\")"
   ],
   "metadata": {
    "collapsed": false
   }
  },
  {
   "cell_type": "code",
   "execution_count": null,
   "outputs": [],
   "source": [
    "from gpiozero import Button, LED\n",
    "from signal import pause\n",
    "\n",
    "button_pin = 2\n",
    "led_pin = 17\n",
    "\n",
    "button = Button(button_pin)\n",
    "led = LED(led_pin)\n",
    "\n",
    "button.when_pressed = led.on()\n",
    "button.when_released = led.off()\n",
    "\n",
    "pause()"
   ],
   "metadata": {
    "collapsed": false
   }
  },
  {
   "cell_type": "markdown",
   "source": [],
   "metadata": {
    "collapsed": false
   }
  }
 ],
 "metadata": {
  "kernelspec": {
   "display_name": "Python 3",
   "language": "python",
   "name": "python3"
  },
  "language_info": {
   "codemirror_mode": {
    "name": "ipython",
    "version": 2
   },
   "file_extension": ".py",
   "mimetype": "text/x-python",
   "name": "python",
   "nbconvert_exporter": "python",
   "pygments_lexer": "ipython2",
   "version": "2.7.6"
  }
 },
 "nbformat": 4,
 "nbformat_minor": 0
}
